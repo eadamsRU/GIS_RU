{
  "nbformat": 4,
  "nbformat_minor": 0,
  "metadata": {
    "colab": {
      "provenance": [],
      "collapsed_sections": [
        "zLceoxsKFBsJ",
        "JQmZr_5IFOek",
        "pVZEVNThIsVr",
        "QyR04402JAbe",
        "wIFeh7xMFPrJ",
        "gYg2sZuPXKKi",
        "wz_tqZcKXvDU",
        "nX2Nn0tSFVat"
      ],
      "authorship_tag": "ABX9TyPQJsa9FfKIkQdRe84ajk50",
      "include_colab_link": true
    },
    "kernelspec": {
      "name": "python3",
      "display_name": "Python 3"
    },
    "language_info": {
      "name": "python"
    }
  },
  "cells": [
    {
      "cell_type": "markdown",
      "metadata": {
        "id": "view-in-github",
        "colab_type": "text"
      },
      "source": [
        "<a href=\"https://colab.research.google.com/github/eadamsRU/GIS_RU/blob/main/GIS_Dashboard.ipynb\" target=\"_parent\"><img src=\"https://colab.research.google.com/assets/colab-badge.svg\" alt=\"Open In Colab\"/></a>"
      ]
    },
    {
      "cell_type": "markdown",
      "source": [
        "# **SCOPE**"
      ],
      "metadata": {
        "id": "zLceoxsKFBsJ"
      }
    },
    {
      "cell_type": "markdown",
      "source": [
        "* Food availbility\n",
        "  * Food Deserts\n",
        "    - [can mention how Camden is known as a food desert]\n",
        "  * Healthy Grocery/ Food Stores\n",
        "    - contrast with fast food locations\n",
        "  * Farmers markets\n",
        "    - usda would be a good resource\n",
        "* Exercise\n",
        "  * Obesity\n",
        "    - obesity rates\n",
        "    - diabetes populations\n",
        "    - heart disease populations\n",
        "      * Source: County Health Rankings & Roadmaps, CDC, or state health agencies.\n",
        "  * Physically Inactive Persons\n",
        "    - Local public gyms in counties\n",
        "    * physical activity levels\n",
        "* Diet\n",
        "  * healthy food index\n",
        "    - Nutritional intake surveys\n",
        "*\n",
        "*\n",
        "*\n",
        "*\n",
        "*"
      ],
      "metadata": {
        "id": "rGbPos5AFvO0"
      }
    },
    {
      "cell_type": "markdown",
      "source": [
        "# **CODE**"
      ],
      "metadata": {
        "id": "JQmZr_5IFOek"
      }
    },
    {
      "cell_type": "markdown",
      "source": [
        "## Let's get the setup"
      ],
      "metadata": {
        "id": "pVZEVNThIsVr"
      }
    },
    {
      "cell_type": "code",
      "source": [
        "%%capture\n",
        "!pip install geopandas==1.0.1\n",
        "!pip install mapclassify"
      ],
      "metadata": {
        "id": "AZzwx8HnFhy2"
      },
      "execution_count": 17,
      "outputs": []
    },
    {
      "cell_type": "code",
      "source": [
        "import os, zipfile #basics\n",
        "import pandas as pd #data management\n",
        "import matplotlib.pyplot as plt #vis\n",
        "\n",
        "import geopandas as gpd #gis/maps: a sister of pandas; does the job;\n",
        "#tho not as fancy-interactive as folium or leafmap https://geopandas.org/\n",
        "\n",
        "import mapclassify #need for thematic map classification\n",
        "\n",
        "#will display all output not just last command\n",
        "from IPython.core.interactiveshell import InteractiveShell\n",
        "InteractiveShell.ast_node_interactivity = \"all\"\n",
        "\n",
        "from google.colab import files #to download from colab onto hd\n",
        "\n",
        "#from google.colab import data_table\n",
        "#data_table.enable_dataframe_formatter() #this enables spreadsheet view upon calling dataframe (without() )\n",
        "from google.colab.data_table import DataTable\n",
        "DataTable.max_columns = 250"
      ],
      "metadata": {
        "id": "Vsdg4VlzI0ks"
      },
      "execution_count": 18,
      "outputs": []
    },
    {
      "cell_type": "code",
      "source": [
        "#!python --version\n",
        "gpd.__version__"
      ],
      "metadata": {
        "colab": {
          "base_uri": "https://localhost:8080/",
          "height": 0
        },
        "id": "M5fx3n92I2_x",
        "outputId": "1c38ba34-30fa-4460-e438-4cab09b3f985"
      },
      "execution_count": 19,
      "outputs": [
        {
          "output_type": "execute_result",
          "data": {
            "text/plain": [
              "'1.0.1'"
            ],
            "application/vnd.google.colaboratory.intrinsic+json": {
              "type": "string"
            }
          },
          "metadata": {},
          "execution_count": 19
        }
      ]
    },
    {
      "cell_type": "markdown",
      "source": [
        "## Shapefile(s)"
      ],
      "metadata": {
        "id": "QyR04402JAbe"
      }
    },
    {
      "cell_type": "code",
      "source": [
        "#i found one and reposted on my website, download it onto colab:\n",
        "! wget -q -O nj-counties.zip https://docs.google.com/uc?id=1xJDhcRCkgv7k4tNCa72Oog5bohV6dTB2&export=download\n",
        "\n",
        "zip_ref = zipfile.ZipFile('nj-counties.zip', 'r'); zip_ref.extractall(); zip_ref.close() #just unzipping\n",
        "njC0=gpd.read_file('nj_counties.shp') #load the shapefile with gpd as njC"
      ],
      "metadata": {
        "id": "womkUULnJDE5"
      },
      "execution_count": 20,
      "outputs": []
    },
    {
      "cell_type": "code",
      "source": [
        "njC0.dtypes #with geopandas can do stuff like with pandas :)\n",
        "#njC0.info()"
      ],
      "metadata": {
        "colab": {
          "base_uri": "https://localhost:8080/",
          "height": 0
        },
        "id": "Ik-LRFtmJI3M",
        "outputId": "14cf9454-0c6a-46ed-aac3-5bb590490873"
      },
      "execution_count": 21,
      "outputs": [
        {
          "output_type": "execute_result",
          "data": {
            "text/plain": [
              "COUNTY          object\n",
              "COUNTY_LAB      object\n",
              "CO              object\n",
              "GNIS_NAME       object\n",
              "GNIS            object\n",
              "FIPSSTCO        object\n",
              "FIPSCO          object\n",
              "ACRES          float64\n",
              "SQ_MILES       float64\n",
              "POP2010          int64\n",
              "POP2000          int64\n",
              "POP1990          int64\n",
              "POP1980          int64\n",
              "POPDEN2010       int64\n",
              "POPDEN2000       int64\n",
              "POPDEN1990       int64\n",
              "POPDEN1980       int64\n",
              "REGION          object\n",
              "Shape_Leng     float64\n",
              "Shape_Area     float64\n",
              "geometry      geometry\n",
              "dtype: object"
            ],
            "text/html": [
              "<div>\n",
              "<style scoped>\n",
              "    .dataframe tbody tr th:only-of-type {\n",
              "        vertical-align: middle;\n",
              "    }\n",
              "\n",
              "    .dataframe tbody tr th {\n",
              "        vertical-align: top;\n",
              "    }\n",
              "\n",
              "    .dataframe thead th {\n",
              "        text-align: right;\n",
              "    }\n",
              "</style>\n",
              "<table border=\"1\" class=\"dataframe\">\n",
              "  <thead>\n",
              "    <tr style=\"text-align: right;\">\n",
              "      <th></th>\n",
              "      <th>0</th>\n",
              "    </tr>\n",
              "  </thead>\n",
              "  <tbody>\n",
              "    <tr>\n",
              "      <th>COUNTY</th>\n",
              "      <td>object</td>\n",
              "    </tr>\n",
              "    <tr>\n",
              "      <th>COUNTY_LAB</th>\n",
              "      <td>object</td>\n",
              "    </tr>\n",
              "    <tr>\n",
              "      <th>CO</th>\n",
              "      <td>object</td>\n",
              "    </tr>\n",
              "    <tr>\n",
              "      <th>GNIS_NAME</th>\n",
              "      <td>object</td>\n",
              "    </tr>\n",
              "    <tr>\n",
              "      <th>GNIS</th>\n",
              "      <td>object</td>\n",
              "    </tr>\n",
              "    <tr>\n",
              "      <th>FIPSSTCO</th>\n",
              "      <td>object</td>\n",
              "    </tr>\n",
              "    <tr>\n",
              "      <th>FIPSCO</th>\n",
              "      <td>object</td>\n",
              "    </tr>\n",
              "    <tr>\n",
              "      <th>ACRES</th>\n",
              "      <td>float64</td>\n",
              "    </tr>\n",
              "    <tr>\n",
              "      <th>SQ_MILES</th>\n",
              "      <td>float64</td>\n",
              "    </tr>\n",
              "    <tr>\n",
              "      <th>POP2010</th>\n",
              "      <td>int64</td>\n",
              "    </tr>\n",
              "    <tr>\n",
              "      <th>POP2000</th>\n",
              "      <td>int64</td>\n",
              "    </tr>\n",
              "    <tr>\n",
              "      <th>POP1990</th>\n",
              "      <td>int64</td>\n",
              "    </tr>\n",
              "    <tr>\n",
              "      <th>POP1980</th>\n",
              "      <td>int64</td>\n",
              "    </tr>\n",
              "    <tr>\n",
              "      <th>POPDEN2010</th>\n",
              "      <td>int64</td>\n",
              "    </tr>\n",
              "    <tr>\n",
              "      <th>POPDEN2000</th>\n",
              "      <td>int64</td>\n",
              "    </tr>\n",
              "    <tr>\n",
              "      <th>POPDEN1990</th>\n",
              "      <td>int64</td>\n",
              "    </tr>\n",
              "    <tr>\n",
              "      <th>POPDEN1980</th>\n",
              "      <td>int64</td>\n",
              "    </tr>\n",
              "    <tr>\n",
              "      <th>REGION</th>\n",
              "      <td>object</td>\n",
              "    </tr>\n",
              "    <tr>\n",
              "      <th>Shape_Leng</th>\n",
              "      <td>float64</td>\n",
              "    </tr>\n",
              "    <tr>\n",
              "      <th>Shape_Area</th>\n",
              "      <td>float64</td>\n",
              "    </tr>\n",
              "    <tr>\n",
              "      <th>geometry</th>\n",
              "      <td>geometry</td>\n",
              "    </tr>\n",
              "  </tbody>\n",
              "</table>\n",
              "</div><br><label><b>dtype:</b> object</label>"
            ]
          },
          "metadata": {},
          "execution_count": 21
        }
      ]
    },
    {
      "cell_type": "markdown",
      "source": [
        "## Getting our datasets"
      ],
      "metadata": {
        "id": "bwbReYhXJQxd"
      }
    },
    {
      "cell_type": "markdown",
      "source": [
        "We store our dataframe as whatever variable.\n",
        "Using pandas library we can read in either csv or xlsx file. (In this case I use pd.read_csv to read in a FORMATTED csv file that I upload to my github). When I say formatted, I mean it is all cleaned, no blank records, everything is transposed and columns and rows pandas will be able to be read easily.\n",
        "* You can also use google drive but to keep it simple I'll do github (version control plus simpler)"
      ],
      "metadata": {
        "id": "Bi5TI7waJczb"
      }
    },
    {
      "cell_type": "code",
      "source": [
        "dietExerciseIndex = pd.read_csv('https://github.com/eadamsRU/GIS_RU/raw/refs/heads/main/diet%20exercise%20formatted%2009262024%20-%202%20-%20Sheet1.csv')"
      ],
      "metadata": {
        "id": "PL0RBwgkJS7j"
      },
      "execution_count": 22,
      "outputs": []
    },
    {
      "cell_type": "code",
      "source": [
        "dietExerciseIndex.dtypes"
      ],
      "metadata": {
        "colab": {
          "base_uri": "https://localhost:8080/",
          "height": 272
        },
        "id": "kHlmHEVAJaN0",
        "outputId": "f71db3cb-420c-4fbc-eaa1-a6b066e1b8cc"
      },
      "execution_count": 23,
      "outputs": [
        {
          "output_type": "execute_result",
          "data": {
            "text/plain": [
              "County                               object\n",
              "Healthy Food                        float64\n",
              "Exercise Opportunities              float64\n",
              "Obese Persons                       float64\n",
              "Physically Inactive Persons         float64\n",
              "Children Eligible for Free Lunch    float64\n",
              "dtype: object"
            ],
            "text/html": [
              "<div>\n",
              "<style scoped>\n",
              "    .dataframe tbody tr th:only-of-type {\n",
              "        vertical-align: middle;\n",
              "    }\n",
              "\n",
              "    .dataframe tbody tr th {\n",
              "        vertical-align: top;\n",
              "    }\n",
              "\n",
              "    .dataframe thead th {\n",
              "        text-align: right;\n",
              "    }\n",
              "</style>\n",
              "<table border=\"1\" class=\"dataframe\">\n",
              "  <thead>\n",
              "    <tr style=\"text-align: right;\">\n",
              "      <th></th>\n",
              "      <th>0</th>\n",
              "    </tr>\n",
              "  </thead>\n",
              "  <tbody>\n",
              "    <tr>\n",
              "      <th>County</th>\n",
              "      <td>object</td>\n",
              "    </tr>\n",
              "    <tr>\n",
              "      <th>Healthy Food</th>\n",
              "      <td>float64</td>\n",
              "    </tr>\n",
              "    <tr>\n",
              "      <th>Exercise Opportunities</th>\n",
              "      <td>float64</td>\n",
              "    </tr>\n",
              "    <tr>\n",
              "      <th>Obese Persons</th>\n",
              "      <td>float64</td>\n",
              "    </tr>\n",
              "    <tr>\n",
              "      <th>Physically Inactive Persons</th>\n",
              "      <td>float64</td>\n",
              "    </tr>\n",
              "    <tr>\n",
              "      <th>Children Eligible for Free Lunch</th>\n",
              "      <td>float64</td>\n",
              "    </tr>\n",
              "  </tbody>\n",
              "</table>\n",
              "</div><br><label><b>dtype:</b> object</label>"
            ]
          },
          "metadata": {},
          "execution_count": 23
        }
      ]
    },
    {
      "cell_type": "markdown",
      "source": [
        "This below code is good to elimiate any blank spaces that may still be there that the eye does not catch, good practice to include something like this."
      ],
      "metadata": {
        "id": "ZD52zPvHKXqH"
      }
    },
    {
      "cell_type": "code",
      "source": [
        "dietExerciseIndex.columns = dietExerciseIndex.columns.str.strip()\n"
      ],
      "metadata": {
        "id": "7nN5gPXdKXUT"
      },
      "execution_count": 24,
      "outputs": []
    },
    {
      "cell_type": "markdown",
      "source": [
        "Incredibly important step below to make sure that the variable that we found to join on our shapefile matches EXACTLY with our file. (CASE_sensitive)"
      ],
      "metadata": {
        "id": "96w7HNINKnTc"
      }
    },
    {
      "cell_type": "code",
      "source": [
        "dietExerciseIndex.rename(columns={'County': 'COUNTY'}, inplace=True)"
      ],
      "metadata": {
        "id": "zmqntFvgKn2A"
      },
      "execution_count": 25,
      "outputs": []
    },
    {
      "cell_type": "markdown",
      "source": [
        "I also found for my data do the same with all other columns you plan on using. This will come into play later"
      ],
      "metadata": {
        "id": "pTDzkcSTK25N"
      }
    },
    {
      "cell_type": "code",
      "source": [
        "dietExerciseIndex.rename(columns={'Healthy Food': 'HEALTHY FOOD'}, inplace=True)\n"
      ],
      "metadata": {
        "id": "h1jK0YGoK9tT"
      },
      "execution_count": 26,
      "outputs": []
    },
    {
      "cell_type": "markdown",
      "source": [
        "***VERY IMPORTANT***\n",
        "THIS IS HOW YOU CONVERT DATATYPES"
      ],
      "metadata": {
        "id": "EREqmbugLDqY"
      }
    },
    {
      "cell_type": "code",
      "source": [
        "# If you want to convert multiple columns\n",
        "columns_to_convert = ['HEALTHY FOOD', 'Exercise Opportunities', 'OBESE PERSONS', 'PHYSICALLY INACTIVE PERSONS', 'CHILDREN ELIGIBLE FOR FREE LUNCH']  # replace with your actual column names\n",
        "dietExerciseIndex[columns_to_convert] = dietExerciseIndex[columns_to_convert].astype('int64')"
      ],
      "metadata": {
        "id": "vOF0w7AxLMtV"
      },
      "execution_count": null,
      "outputs": []
    },
    {
      "cell_type": "markdown",
      "source": [
        "## Merge"
      ],
      "metadata": {
        "id": "1ARYd6E_LrL3"
      }
    },
    {
      "cell_type": "code",
      "source": [
        "njC2 = pd.merge(njC0, dietExerciseIndex, on='COUNTY',how='outer',indicator=True) #(make sure to have njC shapefile from previous sec)\n"
      ],
      "metadata": {
        "id": "_Df2r7ZDLsz-"
      },
      "execution_count": 28,
      "outputs": []
    },
    {
      "cell_type": "markdown",
      "source": [
        "Use this to check if merge was successful and we can read our DF"
      ],
      "metadata": {
        "id": "Kb4S9VBNMs_h"
      }
    },
    {
      "cell_type": "code",
      "source": [
        "njC2.head(1)\n"
      ],
      "metadata": {
        "colab": {
          "base_uri": "https://localhost:8080/",
          "height": 252
        },
        "id": "gPwGoJKaMslH",
        "outputId": "e45c636b-e073-4b32-8660-5abdf4f6cb55"
      },
      "execution_count": 29,
      "outputs": [
        {
          "output_type": "execute_result",
          "data": {
            "text/plain": [
              "     COUNTY       COUNTY_LAB   CO           GNIS_NAME    GNIS FIPSSTCO FIPSCO  \\\n",
              "0  ATLANTIC  Atlantic County  ATL  County of Atlantic  882270    34001      1   \n",
              "\n",
              "           ACRES    SQ_MILES   POP2010  ...   REGION     Shape_Leng  \\\n",
              "0  390815.404215  610.649069  274549.0  ...  COASTAL  650228.153906   \n",
              "\n",
              "     Shape_Area                                           geometry  \\\n",
              "0  1.702385e+10  POLYGON ((443056.01 311529.77, 443068.44 31152...   \n",
              "\n",
              "   HEALTHY FOOD  Exercise Opportunities  Obese Persons  \\\n",
              "0           NaN                     NaN            NaN   \n",
              "\n",
              "  Physically Inactive Persons  Children Eligible for Free Lunch     _merge  \n",
              "0                         NaN                               NaN  left_only  \n",
              "\n",
              "[1 rows x 27 columns]"
            ],
            "text/html": [
              "\n",
              "  <div id=\"df-5fbf092e-91c2-465d-b038-f12fda4835c3\" class=\"colab-df-container\">\n",
              "    <div>\n",
              "<style scoped>\n",
              "    .dataframe tbody tr th:only-of-type {\n",
              "        vertical-align: middle;\n",
              "    }\n",
              "\n",
              "    .dataframe tbody tr th {\n",
              "        vertical-align: top;\n",
              "    }\n",
              "\n",
              "    .dataframe thead th {\n",
              "        text-align: right;\n",
              "    }\n",
              "</style>\n",
              "<table border=\"1\" class=\"dataframe\">\n",
              "  <thead>\n",
              "    <tr style=\"text-align: right;\">\n",
              "      <th></th>\n",
              "      <th>COUNTY</th>\n",
              "      <th>COUNTY_LAB</th>\n",
              "      <th>CO</th>\n",
              "      <th>GNIS_NAME</th>\n",
              "      <th>GNIS</th>\n",
              "      <th>FIPSSTCO</th>\n",
              "      <th>FIPSCO</th>\n",
              "      <th>ACRES</th>\n",
              "      <th>SQ_MILES</th>\n",
              "      <th>POP2010</th>\n",
              "      <th>...</th>\n",
              "      <th>REGION</th>\n",
              "      <th>Shape_Leng</th>\n",
              "      <th>Shape_Area</th>\n",
              "      <th>geometry</th>\n",
              "      <th>HEALTHY FOOD</th>\n",
              "      <th>Exercise Opportunities</th>\n",
              "      <th>Obese Persons</th>\n",
              "      <th>Physically Inactive Persons</th>\n",
              "      <th>Children Eligible for Free Lunch</th>\n",
              "      <th>_merge</th>\n",
              "    </tr>\n",
              "  </thead>\n",
              "  <tbody>\n",
              "    <tr>\n",
              "      <th>0</th>\n",
              "      <td>ATLANTIC</td>\n",
              "      <td>Atlantic County</td>\n",
              "      <td>ATL</td>\n",
              "      <td>County of Atlantic</td>\n",
              "      <td>882270</td>\n",
              "      <td>34001</td>\n",
              "      <td>1</td>\n",
              "      <td>390815.404215</td>\n",
              "      <td>610.649069</td>\n",
              "      <td>274549.0</td>\n",
              "      <td>...</td>\n",
              "      <td>COASTAL</td>\n",
              "      <td>650228.153906</td>\n",
              "      <td>1.702385e+10</td>\n",
              "      <td>POLYGON ((443056.01 311529.77, 443068.44 31152...</td>\n",
              "      <td>NaN</td>\n",
              "      <td>NaN</td>\n",
              "      <td>NaN</td>\n",
              "      <td>NaN</td>\n",
              "      <td>NaN</td>\n",
              "      <td>left_only</td>\n",
              "    </tr>\n",
              "  </tbody>\n",
              "</table>\n",
              "<p>1 rows × 27 columns</p>\n",
              "</div>\n",
              "    <div class=\"colab-df-buttons\">\n",
              "\n",
              "  <div class=\"colab-df-container\">\n",
              "    <button class=\"colab-df-convert\" onclick=\"convertToInteractive('df-5fbf092e-91c2-465d-b038-f12fda4835c3')\"\n",
              "            title=\"Convert this dataframe to an interactive table.\"\n",
              "            style=\"display:none;\">\n",
              "\n",
              "  <svg xmlns=\"http://www.w3.org/2000/svg\" height=\"24px\" viewBox=\"0 -960 960 960\">\n",
              "    <path d=\"M120-120v-720h720v720H120Zm60-500h600v-160H180v160Zm220 220h160v-160H400v160Zm0 220h160v-160H400v160ZM180-400h160v-160H180v160Zm440 0h160v-160H620v160ZM180-180h160v-160H180v160Zm440 0h160v-160H620v160Z\"/>\n",
              "  </svg>\n",
              "    </button>\n",
              "\n",
              "  <style>\n",
              "    .colab-df-container {\n",
              "      display:flex;\n",
              "      gap: 12px;\n",
              "    }\n",
              "\n",
              "    .colab-df-convert {\n",
              "      background-color: #E8F0FE;\n",
              "      border: none;\n",
              "      border-radius: 50%;\n",
              "      cursor: pointer;\n",
              "      display: none;\n",
              "      fill: #1967D2;\n",
              "      height: 32px;\n",
              "      padding: 0 0 0 0;\n",
              "      width: 32px;\n",
              "    }\n",
              "\n",
              "    .colab-df-convert:hover {\n",
              "      background-color: #E2EBFA;\n",
              "      box-shadow: 0px 1px 2px rgba(60, 64, 67, 0.3), 0px 1px 3px 1px rgba(60, 64, 67, 0.15);\n",
              "      fill: #174EA6;\n",
              "    }\n",
              "\n",
              "    .colab-df-buttons div {\n",
              "      margin-bottom: 4px;\n",
              "    }\n",
              "\n",
              "    [theme=dark] .colab-df-convert {\n",
              "      background-color: #3B4455;\n",
              "      fill: #D2E3FC;\n",
              "    }\n",
              "\n",
              "    [theme=dark] .colab-df-convert:hover {\n",
              "      background-color: #434B5C;\n",
              "      box-shadow: 0px 1px 3px 1px rgba(0, 0, 0, 0.15);\n",
              "      filter: drop-shadow(0px 1px 2px rgba(0, 0, 0, 0.3));\n",
              "      fill: #FFFFFF;\n",
              "    }\n",
              "  </style>\n",
              "\n",
              "    <script>\n",
              "      const buttonEl =\n",
              "        document.querySelector('#df-5fbf092e-91c2-465d-b038-f12fda4835c3 button.colab-df-convert');\n",
              "      buttonEl.style.display =\n",
              "        google.colab.kernel.accessAllowed ? 'block' : 'none';\n",
              "\n",
              "      async function convertToInteractive(key) {\n",
              "        const element = document.querySelector('#df-5fbf092e-91c2-465d-b038-f12fda4835c3');\n",
              "        const dataTable =\n",
              "          await google.colab.kernel.invokeFunction('convertToInteractive',\n",
              "                                                    [key], {});\n",
              "        if (!dataTable) return;\n",
              "\n",
              "        const docLinkHtml = 'Like what you see? Visit the ' +\n",
              "          '<a target=\"_blank\" href=https://colab.research.google.com/notebooks/data_table.ipynb>data table notebook</a>'\n",
              "          + ' to learn more about interactive tables.';\n",
              "        element.innerHTML = '';\n",
              "        dataTable['output_type'] = 'display_data';\n",
              "        await google.colab.output.renderOutput(dataTable, element);\n",
              "        const docLink = document.createElement('div');\n",
              "        docLink.innerHTML = docLinkHtml;\n",
              "        element.appendChild(docLink);\n",
              "      }\n",
              "    </script>\n",
              "  </div>\n",
              "\n",
              "\n",
              "    </div>\n",
              "  </div>\n"
            ],
            "application/vnd.google.colaboratory.intrinsic+json": {
              "type": "dataframe",
              "variable_name": "njC2"
            }
          },
          "metadata": {},
          "execution_count": 29
        }
      ]
    },
    {
      "cell_type": "markdown",
      "source": [
        "## Convert our Merged DF to int64 from float64"
      ],
      "metadata": {
        "id": "1UAFxmluNC8P"
      }
    },
    {
      "cell_type": "code",
      "source": [
        "# Fill NaN values with a default value (e.g., 0)\n",
        "njC2['HEALTHY FOOD'] = njC2['HEALTHY FOOD'].fillna(0)\n",
        "\n",
        "# Now convert to int64\n",
        "njC2['HEALTHY FOOD'] = njC2['HEALTHY FOOD'].astype('int64')"
      ],
      "metadata": {
        "id": "iyXytTwFNKWU"
      },
      "execution_count": 30,
      "outputs": []
    },
    {
      "cell_type": "markdown",
      "source": [
        "use print to check the columns, if we have any dupes then we will do a method I found that is convoluted but gets the job done.\n",
        "\n",
        "* **Need to find a better method for this though**"
      ],
      "metadata": {
        "id": "TgPVuhiMNSpO"
      }
    },
    {
      "cell_type": "code",
      "source": [
        "print(njC2['HEALTHY FOOD'])\n"
      ],
      "metadata": {
        "colab": {
          "base_uri": "https://localhost:8080/"
        },
        "id": "OR142yedNSIQ",
        "outputId": "ad398af3-d7af-4796-9ca5-3ef2abb2d0c4"
      },
      "execution_count": 31,
      "outputs": [
        {
          "output_type": "stream",
          "name": "stdout",
          "text": [
            "0      0\n",
            "1      0\n",
            "2      0\n",
            "3      0\n",
            "4      0\n",
            "5      0\n",
            "6      0\n",
            "7      0\n",
            "8      0\n",
            "9      0\n",
            "10     0\n",
            "11     0\n",
            "12     0\n",
            "13     0\n",
            "14     0\n",
            "15     0\n",
            "16     0\n",
            "17     0\n",
            "18     0\n",
            "19     0\n",
            "20     0\n",
            "21     7\n",
            "22     0\n",
            "23     5\n",
            "24     4\n",
            "25     8\n",
            "26    11\n",
            "27     0\n",
            "28     6\n",
            "29     0\n",
            "30     2\n",
            "31     3\n",
            "32     3\n",
            "33     4\n",
            "34     3\n",
            "35     8\n",
            "36     1\n",
            "37     8\n",
            "38     3\n",
            "39     5\n",
            "40     0\n",
            "41     7\n",
            "Name: HEALTHY FOOD, dtype: int64\n"
          ]
        }
      ]
    },
    {
      "cell_type": "code",
      "source": [
        "# Fill NaN values with a default value (e.g., 0)\n",
        "njC2['HEALTHY FOOD'] = njC2['HEALTHY FOOD'].fillna(0)\n",
        "\n",
        "# Now convert to int64\n",
        "njC2['HEALTHY FOOD'] = njC2['HEALTHY FOOD'].astype('int64')"
      ],
      "metadata": {
        "id": "tUTCKFS5NrEZ"
      },
      "execution_count": 32,
      "outputs": []
    },
    {
      "cell_type": "markdown",
      "source": [
        "## THIS IS THE STEP, RUN JUST ONE TIME\n",
        "* understand indices and this will help anyone, even if it is not just the top rows are all blank, say it is middle 5-10, you can still use this just change the ranges and will help you out."
      ],
      "metadata": {
        "id": "w7oPWt96N4Km"
      }
    },
    {
      "cell_type": "code",
      "source": [
        "#njC2['HEALTHY FOOD'] = njC2['HEALTHY FOOD'].iloc[21:].reset_index(drop=True)"
      ],
      "metadata": {
        "id": "V2_G8YPGN6yC"
      },
      "execution_count": 37,
      "outputs": []
    },
    {
      "cell_type": "markdown",
      "source": [
        "Print to check you have data where you need."
      ],
      "metadata": {
        "id": "0wXntJYpOWYg"
      }
    },
    {
      "cell_type": "code",
      "source": [
        "print(njC2)"
      ],
      "metadata": {
        "colab": {
          "base_uri": "https://localhost:8080/"
        },
        "id": "zjqvbd2bOVkC",
        "outputId": "6e48ac17-c62b-4d9d-e7f6-8d96f22541a0"
      },
      "execution_count": 34,
      "outputs": [
        {
          "output_type": "stream",
          "name": "stdout",
          "text": [
            "               COUNTY         COUNTY_LAB   CO             GNIS_NAME    GNIS  \\\n",
            "0            ATLANTIC    Atlantic County  ATL    County of Atlantic  882270   \n",
            "1              BERGEN      Bergen County  BER      County of Bergen  882271   \n",
            "2          BURLINGTON  Burlington County  BUR  County of Burlington  882272   \n",
            "3              CAMDEN      Camden County  CAM      County of Camden  882273   \n",
            "4            CAPE MAY    Cape May County  CAP    County of Cape May  882274   \n",
            "5          CUMBERLAND  Cumberland County  CUM  County of Cumberland  882275   \n",
            "6               ESSEX       Essex County  ESS       County of Essex  882276   \n",
            "7          GLOUCESTER  Gloucester County  GLO  County of Gloucester  882277   \n",
            "8              HUDSON      Hudson County  HUD      County of Hudson  882278   \n",
            "9           HUNTERDON   Hunterdon County  HUN   County of Hunterdon  882228   \n",
            "10             MERCER      Mercer County  MER      County of Mercer  882229   \n",
            "11           MONMOUTH    Monmouth County  MON    County of Monmouth  882910   \n",
            "12              OCEAN       Ocean County  OCE       County of Ocean  882279   \n",
            "13            PASSAIC     Passaic County  PAS     County of Passaic  882232   \n",
            "14              SALEM       Salem County  SAL       County of Salem  882233   \n",
            "15           SOMERSET    Somerset County  SOM    County of Somerset  882234   \n",
            "16             SUSSEX      Sussex County  SUS      County of Sussex  882236   \n",
            "17              UNION       Union County  UNI       County of Union  882235   \n",
            "18             WARREN      Warren County  WAR      County of Warren  882237   \n",
            "19             MORRIS      Morris County  MOR      County of Morris  882231   \n",
            "20          MIDDLESEX   Middlesex County  MID   County of Middlesex  882230   \n",
            "21    Atlantic County                NaN  NaN                   NaN     NaN   \n",
            "22      Bergen County                NaN  NaN                   NaN     NaN   \n",
            "23  Burlington County                NaN  NaN                   NaN     NaN   \n",
            "24      Camden County                NaN  NaN                   NaN     NaN   \n",
            "25    Cape May County                NaN  NaN                   NaN     NaN   \n",
            "26  Cumberland County                NaN  NaN                   NaN     NaN   \n",
            "27       Essex County                NaN  NaN                   NaN     NaN   \n",
            "28  Gloucester County                NaN  NaN                   NaN     NaN   \n",
            "29      Hudson County                NaN  NaN                   NaN     NaN   \n",
            "30   Hunterdon County                NaN  NaN                   NaN     NaN   \n",
            "31      Mercer County                NaN  NaN                   NaN     NaN   \n",
            "32   Middlesex County                NaN  NaN                   NaN     NaN   \n",
            "33    Monmouth County                NaN  NaN                   NaN     NaN   \n",
            "34      Morris County                NaN  NaN                   NaN     NaN   \n",
            "35       Ocean County                NaN  NaN                   NaN     NaN   \n",
            "36     Passaic County                NaN  NaN                   NaN     NaN   \n",
            "37       Salem County                NaN  NaN                   NaN     NaN   \n",
            "38    Somerset County                NaN  NaN                   NaN     NaN   \n",
            "39      Sussex County                NaN  NaN                   NaN     NaN   \n",
            "40       Union County                NaN  NaN                   NaN     NaN   \n",
            "41      Warren County                NaN  NaN                   NaN     NaN   \n",
            "\n",
            "   FIPSSTCO FIPSCO          ACRES    SQ_MILES   POP2010  ...        REGION  \\\n",
            "0     34001      1  390815.404215  610.649069  274549.0  ...       COASTAL   \n",
            "1     34003      3  153490.275182  239.828555  905116.0  ...  NORTHEASTERN   \n",
            "2     34005      5  525002.683590  820.316693  448734.0  ...      SOUTHERN   \n",
            "3     34007      7  145650.507808  227.578918  513657.0  ...      SOUTHERN   \n",
            "4     34009      9  183126.574240  286.135272   97265.0  ...       COASTAL   \n",
            "5     34011     11  321150.321572  501.797378  156898.0  ...      SOUTHERN   \n",
            "6     34013     13   83034.859489  129.741968  783969.0  ...  NORTHEASTERN   \n",
            "7     34015     15  215166.893094  336.198271  288288.0  ...      SOUTHERN   \n",
            "8     34017     17   32982.400794   51.535001  634266.0  ...  NORTHEASTERN   \n",
            "9     34019     19  279885.206384  437.320635  128349.0  ...       CENTRAL   \n",
            "10    34021     21  146431.864374  228.799788  366513.0  ...       CENTRAL   \n",
            "11    34025     25  310834.264884  485.678539  630380.0  ...       COASTAL   \n",
            "12    34029     29  485078.440831  757.935064  576567.0  ...       COASTAL   \n",
            "13    34031     31  126926.846048  198.323197  501226.0  ...  NORTHEASTERN   \n",
            "14    34033     33  222158.656047  347.122900   66083.0  ...      SOUTHERN   \n",
            "15    34035     35  195127.363184  304.886505  323444.0  ...       CENTRAL   \n",
            "16    34037     37  342730.853674  535.516959  149265.0  ...  NORTHWESTERN   \n",
            "17    34039     39   67438.592595  105.372801  536499.0  ...  NORTHEASTERN   \n",
            "18    34041     41  232061.359022  362.595874  108692.0  ...  NORTHWESTERN   \n",
            "19    34027     27  308084.429543  481.381921  492276.0  ...  NORTHEASTERN   \n",
            "20    34023     23  202859.561527  316.968065  809858.0  ...       CENTRAL   \n",
            "21      NaN    NaN            NaN         NaN       NaN  ...           NaN   \n",
            "22      NaN    NaN            NaN         NaN       NaN  ...           NaN   \n",
            "23      NaN    NaN            NaN         NaN       NaN  ...           NaN   \n",
            "24      NaN    NaN            NaN         NaN       NaN  ...           NaN   \n",
            "25      NaN    NaN            NaN         NaN       NaN  ...           NaN   \n",
            "26      NaN    NaN            NaN         NaN       NaN  ...           NaN   \n",
            "27      NaN    NaN            NaN         NaN       NaN  ...           NaN   \n",
            "28      NaN    NaN            NaN         NaN       NaN  ...           NaN   \n",
            "29      NaN    NaN            NaN         NaN       NaN  ...           NaN   \n",
            "30      NaN    NaN            NaN         NaN       NaN  ...           NaN   \n",
            "31      NaN    NaN            NaN         NaN       NaN  ...           NaN   \n",
            "32      NaN    NaN            NaN         NaN       NaN  ...           NaN   \n",
            "33      NaN    NaN            NaN         NaN       NaN  ...           NaN   \n",
            "34      NaN    NaN            NaN         NaN       NaN  ...           NaN   \n",
            "35      NaN    NaN            NaN         NaN       NaN  ...           NaN   \n",
            "36      NaN    NaN            NaN         NaN       NaN  ...           NaN   \n",
            "37      NaN    NaN            NaN         NaN       NaN  ...           NaN   \n",
            "38      NaN    NaN            NaN         NaN       NaN  ...           NaN   \n",
            "39      NaN    NaN            NaN         NaN       NaN  ...           NaN   \n",
            "40      NaN    NaN            NaN         NaN       NaN  ...           NaN   \n",
            "41      NaN    NaN            NaN         NaN       NaN  ...           NaN   \n",
            "\n",
            "       Shape_Leng    Shape_Area  \\\n",
            "0   650228.153906  1.702385e+10   \n",
            "1   443326.122021  6.686010e+09   \n",
            "2   788906.717476  2.286903e+10   \n",
            "3   495010.034901  6.344511e+09   \n",
            "4   514564.858771  7.976962e+09   \n",
            "5   704221.618565  1.398925e+10   \n",
            "6   344556.557700  3.616984e+09   \n",
            "7   560703.567470  9.372632e+09   \n",
            "8   381357.990132  1.436708e+09   \n",
            "9   561760.929390  1.219175e+10   \n",
            "10  484095.376506  6.378546e+09   \n",
            "11  733254.795631  1.353989e+10   \n",
            "12  722804.165670  2.112993e+10   \n",
            "13  492851.319687  5.528911e+09   \n",
            "14  664545.338596  9.677192e+09   \n",
            "15  541587.507240  8.499714e+09   \n",
            "16  525994.431104  1.492930e+10   \n",
            "17  321814.398490  2.937613e+09   \n",
            "18  554871.678837  1.010855e+10   \n",
            "19  750263.524683  1.342010e+10   \n",
            "20  505626.821647  8.836527e+09   \n",
            "21            NaN           NaN   \n",
            "22            NaN           NaN   \n",
            "23            NaN           NaN   \n",
            "24            NaN           NaN   \n",
            "25            NaN           NaN   \n",
            "26            NaN           NaN   \n",
            "27            NaN           NaN   \n",
            "28            NaN           NaN   \n",
            "29            NaN           NaN   \n",
            "30            NaN           NaN   \n",
            "31            NaN           NaN   \n",
            "32            NaN           NaN   \n",
            "33            NaN           NaN   \n",
            "34            NaN           NaN   \n",
            "35            NaN           NaN   \n",
            "36            NaN           NaN   \n",
            "37            NaN           NaN   \n",
            "38            NaN           NaN   \n",
            "39            NaN           NaN   \n",
            "40            NaN           NaN   \n",
            "41            NaN           NaN   \n",
            "\n",
            "                                             geometry  HEALTHY FOOD  \\\n",
            "0   POLYGON ((443056.01 311529.77, 443068.44 31152...             0   \n",
            "1   POLYGON ((656200.963 783614.366, 656141.127 78...             0   \n",
            "2   POLYGON ((436626.69 491361.78, 436701.19 49135...             0   \n",
            "3   POLYGON ((342763.99 423475.83, 342804.1 423429...             0   \n",
            "4   POLYGON ((390389.73 177065.13, 390410.17 17705...             0   \n",
            "5   POLYGON ((333743.882 268331.623, 341456.371 26...             0   \n",
            "6   POLYGON ((541167.94 755990.81, 541175.5 755969...             0   \n",
            "7   POLYGON ((315566.25 382993.34, 315650.44 38290...             0   \n",
            "8   MULTIPOLYGON (((586210.281 660143.72, 586222.3...             0   \n",
            "9   POLYGON ((391770.815 705704.676, 392388.938 70...             0   \n",
            "10  POLYGON ((430243.04 561670.4, 430241.77 561651...             0   \n",
            "11  MULTIPOLYGON (((633923.765 579357.834, 633936....             0   \n",
            "12  POLYGON ((558823.65 485784.59, 558844.95 48578...             0   \n",
            "13  POLYGON ((571665.371 838036.808, 564405.5 8200...             0   \n",
            "14  POLYGON ((237257.74 347915.18, 237283.77 34787...             0   \n",
            "15  POLYGON ((477019 700585.5, 477035.03 700585.06...             0   \n",
            "16  POLYGON ((445227.7 915430.62, 449738.41 912682...             0   \n",
            "17  POLYGON ((532362.499 692149.483, 532524.353 69...             0   \n",
            "18  POLYGON ((370994.194 814703.856, 374212.172 81...             0   \n",
            "19  POLYGON ((491990.77 820527.42, 492000.42 82051...             0   \n",
            "20  POLYGON ((548930.697 641772.802, 550167.286 64...             0   \n",
            "21                                               None             7   \n",
            "22                                               None             0   \n",
            "23                                               None             5   \n",
            "24                                               None             4   \n",
            "25                                               None             8   \n",
            "26                                               None            11   \n",
            "27                                               None             0   \n",
            "28                                               None             6   \n",
            "29                                               None             0   \n",
            "30                                               None             2   \n",
            "31                                               None             3   \n",
            "32                                               None             3   \n",
            "33                                               None             4   \n",
            "34                                               None             3   \n",
            "35                                               None             8   \n",
            "36                                               None             1   \n",
            "37                                               None             8   \n",
            "38                                               None             3   \n",
            "39                                               None             5   \n",
            "40                                               None             0   \n",
            "41                                               None             7   \n",
            "\n",
            "    Exercise Opportunities  Obese Persons Physically Inactive Persons  \\\n",
            "0                      NaN            NaN                         NaN   \n",
            "1                      NaN            NaN                         NaN   \n",
            "2                      NaN            NaN                         NaN   \n",
            "3                      NaN            NaN                         NaN   \n",
            "4                      NaN            NaN                         NaN   \n",
            "5                      NaN            NaN                         NaN   \n",
            "6                      NaN            NaN                         NaN   \n",
            "7                      NaN            NaN                         NaN   \n",
            "8                      NaN            NaN                         NaN   \n",
            "9                      NaN            NaN                         NaN   \n",
            "10                     NaN            NaN                         NaN   \n",
            "11                     NaN            NaN                         NaN   \n",
            "12                     NaN            NaN                         NaN   \n",
            "13                     NaN            NaN                         NaN   \n",
            "14                     NaN            NaN                         NaN   \n",
            "15                     NaN            NaN                         NaN   \n",
            "16                     NaN            NaN                         NaN   \n",
            "17                     NaN            NaN                         NaN   \n",
            "18                     NaN            NaN                         NaN   \n",
            "19                     NaN            NaN                         NaN   \n",
            "20                     NaN            NaN                         NaN   \n",
            "21                    93.1           32.4                        22.5   \n",
            "22                    99.5           22.9                        18.2   \n",
            "23                    93.0           30.0                        18.4   \n",
            "24                    93.5           30.9                        21.9   \n",
            "25                    89.7           29.4                        19.2   \n",
            "26                    86.7           35.7                        30.8   \n",
            "27                    99.7           29.1                        25.5   \n",
            "28                    88.2           32.1                        18.7   \n",
            "29                   100.0           25.7                        25.2   \n",
            "30                    91.5           25.1                        14.9   \n",
            "31                    99.4           28.4                        20.3   \n",
            "32                    97.1           23.3                        20.3   \n",
            "33                    96.0           22.1                        18.5   \n",
            "34                    98.5           19.9                        14.6   \n",
            "35                    90.2           30.8                        19.8   \n",
            "36                    98.9           29.5                        27.9   \n",
            "37                    59.3           35.3                        24.8   \n",
            "38                    96.5           24.3                        16.0   \n",
            "39                    93.1           28.2                        18.0   \n",
            "40                    99.8           29.5                        23.9   \n",
            "41                    89.4           30.5                        19.7   \n",
            "\n",
            "    Children Eligible for Free Lunch      _merge  \n",
            "0                                NaN   left_only  \n",
            "1                                NaN   left_only  \n",
            "2                                NaN   left_only  \n",
            "3                                NaN   left_only  \n",
            "4                                NaN   left_only  \n",
            "5                                NaN   left_only  \n",
            "6                                NaN   left_only  \n",
            "7                                NaN   left_only  \n",
            "8                                NaN   left_only  \n",
            "9                                NaN   left_only  \n",
            "10                               NaN   left_only  \n",
            "11                               NaN   left_only  \n",
            "12                               NaN   left_only  \n",
            "13                               NaN   left_only  \n",
            "14                               NaN   left_only  \n",
            "15                               NaN   left_only  \n",
            "16                               NaN   left_only  \n",
            "17                               NaN   left_only  \n",
            "18                               NaN   left_only  \n",
            "19                               NaN   left_only  \n",
            "20                               NaN   left_only  \n",
            "21                              53.1  right_only  \n",
            "22                              19.0  right_only  \n",
            "23                              24.7  right_only  \n",
            "24                              43.6  right_only  \n",
            "25                              35.5  right_only  \n",
            "26                              50.2  right_only  \n",
            "27                              52.4  right_only  \n",
            "28                              24.8  right_only  \n",
            "29                              57.1  right_only  \n",
            "30                              10.1  right_only  \n",
            "31                              35.3  right_only  \n",
            "32                              34.4  right_only  \n",
            "33                              22.9  right_only  \n",
            "34                              13.5  right_only  \n",
            "35                              33.8  right_only  \n",
            "36                              55.3  right_only  \n",
            "37                              38.9  right_only  \n",
            "38                              20.4  right_only  \n",
            "39                              16.9  right_only  \n",
            "40                              42.3  right_only  \n",
            "41                              26.9  right_only  \n",
            "\n",
            "[42 rows x 27 columns]\n"
          ]
        }
      ]
    },
    {
      "cell_type": "code",
      "source": [
        "njC2.columns = njC2.columns.str.strip()"
      ],
      "metadata": {
        "id": "t5ihJ_AOMDuF"
      },
      "execution_count": 35,
      "outputs": []
    },
    {
      "cell_type": "markdown",
      "source": [
        "# **MAPS**"
      ],
      "metadata": {
        "id": "T-khsdrsFPUA"
      }
    },
    {
      "cell_type": "markdown",
      "source": [
        "## This is a basic map, good to use as a starting point"
      ],
      "metadata": {
        "id": "B8cqjoL6PW7L"
      }
    },
    {
      "cell_type": "markdown",
      "source": [
        "DEBUG (WORKS)"
      ],
      "metadata": {
        "id": "dW1FdwZXWa9j"
      }
    },
    {
      "cell_type": "code",
      "source": [
        "print(njC2[njC2.geometry.isnull()])\n"
      ],
      "metadata": {
        "colab": {
          "base_uri": "https://localhost:8080/"
        },
        "id": "6lQublIEWbrO",
        "outputId": "4cfd3bd1-2991-48fe-dff1-8875419a17d6"
      },
      "execution_count": 97,
      "outputs": [
        {
          "output_type": "stream",
          "name": "stdout",
          "text": [
            "Empty GeoDataFrame\n",
            "Columns: [COUNTY, COUNTY_LAB, CO, GNIS_NAME, GNIS, FIPSSTCO, FIPSCO, ACRES, SQ_MILES, POP2010, POP2000, POP1990, POP1980, POPDEN2010, POPDEN2000, POPDEN1990, POPDEN1980, REGION, Shape_Leng, Shape_Area, geometry, HEALTHY FOOD, Exercise Opportunities, Obese Persons, Physically Inactive Persons, Children Eligible for Free Lunch, _merge]\n",
            "Index: []\n",
            "\n",
            "[0 rows x 27 columns]\n"
          ]
        }
      ]
    },
    {
      "cell_type": "code",
      "source": [
        "njC2 = njC2[~njC2.geometry.isnull()]"
      ],
      "metadata": {
        "id": "oQjoV5q6W6MI"
      },
      "execution_count": 95,
      "outputs": []
    },
    {
      "cell_type": "code",
      "source": [
        "njC2 = njC2.to_crs(epsg=3857)  # Using Web Mercator (EPSG:3857) as an example\n"
      ],
      "metadata": {
        "id": "EMv4Fh7dWpyz"
      },
      "execution_count": 96,
      "outputs": []
    },
    {
      "cell_type": "code",
      "source": [
        "#first thematic map! lets unpack options esp fmt for dec pts; more later sec 'bells and whistles'\n",
        "fig, ax = plt.subplots(1, figsize=(6,10))\n",
        "njC2.plot(ax=ax,column='HEALTHY FOOD',legend=True,cmap='autumn',scheme='natural_breaks',k=5,\n",
        "         edgecolor='grey',linewidth=2,legend_kwds= {\"fmt\": \"{:,.0f}\",\n",
        "        'loc':'lower right','title_fontsize':'medium','fontsize':'small','markerscale':1.4}) #\n",
        "\n",
        "# Add county names on the map\n",
        "njC2.apply(lambda x: ax.text(x.geometry.centroid.x, x.geometry.centroid.y,\n",
        "                             x['COUNTY'], fontsize=8, ha='center'), axis=1)\n",
        "\n",
        "#leg1 = ax.get_legend()\n",
        "#leg1.set_title('''Population Density\n",
        "#2010 (pers/sq mi)''')\n",
        "ax.title.set_text(\"Persons with Limited Access to Healthy Foods (Percentage %)\")\n",
        "ax.set_xticks([]) #kills xticks\n",
        "ax.set_yticks([]) #kills xticks\n",
        "\n",
        "#plt.savefig('fig.pdf',bbox_inches='tight') #,pad_inches=0.1, dpi=200, transparent=True #eps, jpeg, jpg, pdf, pgf, png, ps, raw, rgba, svg, svgz, tif, tiff\n",
        "#files.download('fig.pdf') #note can also right click fig and save image as"
      ],
      "metadata": {
        "colab": {
          "base_uri": "https://localhost:8080/",
          "height": 1000
        },
        "id": "tWmcDCOgFdq1",
        "outputId": "759762cd-dfbc-47b2-ef6d-e249f1becdfa"
      },
      "execution_count": 99,
      "outputs": [
        {
          "output_type": "execute_result",
          "data": {
            "text/plain": [
              "<Axes: >"
            ]
          },
          "metadata": {},
          "execution_count": 99
        },
        {
          "output_type": "execute_result",
          "data": {
            "text/plain": [
              "0     Text(-8311174.075015094, 4790366.237242303, 'A...\n",
              "1     Text(-8246337.247068637, 5006655.089576726, 'B...\n",
              "2     Text(-8312044.444576543, 4848269.124234073, 'B...\n",
              "3     Text(-8344506.89112397, 4837478.296176319, 'CA...\n",
              "4     Text(-8326688.160923031, 4743044.344964853, 'C...\n",
              "5     Text(-8361279.012639857, 4775359.647757998, 'C...\n",
              "6     Text(-8265113.615734561, 4980977.958160284, 'E...\n",
              "7     Text(-8364677.696652, 4824935.330250312, 'GLOU...\n",
              "8     Text(-8246574.496996955, 4973815.024634254, 'H...\n",
              "9     Text(-8339191.301984139, 4948759.2571001155, '...\n",
              "10    Text(-8315768.31132663, 4907232.954512024, 'ME...\n",
              "11    Text(-8262315.718452516, 4903836.16962738, 'MO...\n",
              "12    Text(-8268932.497574247, 4849267.294407029, 'O...\n",
              "13    Text(-8271132.575267625, 5017432.558158813, 'P...\n",
              "14    Text(-8387755.84183055, 4806186.133361406, 'SA...\n",
              "15    Text(-8306249.53221288, 4948200.908574749, 'SO...\n",
              "16    Text(-8314540.908915866, 5032943.403593996, 'S...\n",
              "17    Text(-8271928.408903942, 4962338.201830624, 'U...\n",
              "18    Text(-8348656.48455284, 4991343.21469477, 'WAR...\n",
              "19    Text(-8298248.411072176, 4992035.472676619, 'M...\n",
              "20    Text(-8283484.430277619, 4929979.49014835, 'MI...\n",
              "dtype: object"
            ],
            "text/html": [
              "<div>\n",
              "<style scoped>\n",
              "    .dataframe tbody tr th:only-of-type {\n",
              "        vertical-align: middle;\n",
              "    }\n",
              "\n",
              "    .dataframe tbody tr th {\n",
              "        vertical-align: top;\n",
              "    }\n",
              "\n",
              "    .dataframe thead th {\n",
              "        text-align: right;\n",
              "    }\n",
              "</style>\n",
              "<table border=\"1\" class=\"dataframe\">\n",
              "  <thead>\n",
              "    <tr style=\"text-align: right;\">\n",
              "      <th></th>\n",
              "      <th>0</th>\n",
              "    </tr>\n",
              "  </thead>\n",
              "  <tbody>\n",
              "    <tr>\n",
              "      <th>0</th>\n",
              "      <td>Text(-8311174.075015094, 4790366.237242303, 'A...</td>\n",
              "    </tr>\n",
              "    <tr>\n",
              "      <th>1</th>\n",
              "      <td>Text(-8246337.247068637, 5006655.089576726, 'B...</td>\n",
              "    </tr>\n",
              "    <tr>\n",
              "      <th>2</th>\n",
              "      <td>Text(-8312044.444576543, 4848269.124234073, 'B...</td>\n",
              "    </tr>\n",
              "    <tr>\n",
              "      <th>3</th>\n",
              "      <td>Text(-8344506.89112397, 4837478.296176319, 'CA...</td>\n",
              "    </tr>\n",
              "    <tr>\n",
              "      <th>4</th>\n",
              "      <td>Text(-8326688.160923031, 4743044.344964853, 'C...</td>\n",
              "    </tr>\n",
              "    <tr>\n",
              "      <th>5</th>\n",
              "      <td>Text(-8361279.012639857, 4775359.647757998, 'C...</td>\n",
              "    </tr>\n",
              "    <tr>\n",
              "      <th>6</th>\n",
              "      <td>Text(-8265113.615734561, 4980977.958160284, 'E...</td>\n",
              "    </tr>\n",
              "    <tr>\n",
              "      <th>7</th>\n",
              "      <td>Text(-8364677.696652, 4824935.330250312, 'GLOU...</td>\n",
              "    </tr>\n",
              "    <tr>\n",
              "      <th>8</th>\n",
              "      <td>Text(-8246574.496996955, 4973815.024634254, 'H...</td>\n",
              "    </tr>\n",
              "    <tr>\n",
              "      <th>9</th>\n",
              "      <td>Text(-8339191.301984139, 4948759.2571001155, '...</td>\n",
              "    </tr>\n",
              "    <tr>\n",
              "      <th>10</th>\n",
              "      <td>Text(-8315768.31132663, 4907232.954512024, 'ME...</td>\n",
              "    </tr>\n",
              "    <tr>\n",
              "      <th>11</th>\n",
              "      <td>Text(-8262315.718452516, 4903836.16962738, 'MO...</td>\n",
              "    </tr>\n",
              "    <tr>\n",
              "      <th>12</th>\n",
              "      <td>Text(-8268932.497574247, 4849267.294407029, 'O...</td>\n",
              "    </tr>\n",
              "    <tr>\n",
              "      <th>13</th>\n",
              "      <td>Text(-8271132.575267625, 5017432.558158813, 'P...</td>\n",
              "    </tr>\n",
              "    <tr>\n",
              "      <th>14</th>\n",
              "      <td>Text(-8387755.84183055, 4806186.133361406, 'SA...</td>\n",
              "    </tr>\n",
              "    <tr>\n",
              "      <th>15</th>\n",
              "      <td>Text(-8306249.53221288, 4948200.908574749, 'SO...</td>\n",
              "    </tr>\n",
              "    <tr>\n",
              "      <th>16</th>\n",
              "      <td>Text(-8314540.908915866, 5032943.403593996, 'S...</td>\n",
              "    </tr>\n",
              "    <tr>\n",
              "      <th>17</th>\n",
              "      <td>Text(-8271928.408903942, 4962338.201830624, 'U...</td>\n",
              "    </tr>\n",
              "    <tr>\n",
              "      <th>18</th>\n",
              "      <td>Text(-8348656.48455284, 4991343.21469477, 'WAR...</td>\n",
              "    </tr>\n",
              "    <tr>\n",
              "      <th>19</th>\n",
              "      <td>Text(-8298248.411072176, 4992035.472676619, 'M...</td>\n",
              "    </tr>\n",
              "    <tr>\n",
              "      <th>20</th>\n",
              "      <td>Text(-8283484.430277619, 4929979.49014835, 'MI...</td>\n",
              "    </tr>\n",
              "  </tbody>\n",
              "</table>\n",
              "</div><br><label><b>dtype:</b> object</label>"
            ]
          },
          "metadata": {},
          "execution_count": 99
        },
        {
          "output_type": "execute_result",
          "data": {
            "text/plain": [
              "[]"
            ]
          },
          "metadata": {},
          "execution_count": 99
        },
        {
          "output_type": "execute_result",
          "data": {
            "text/plain": [
              "[]"
            ]
          },
          "metadata": {},
          "execution_count": 99
        },
        {
          "output_type": "display_data",
          "data": {
            "text/plain": [
              "<Figure size 600x1000 with 1 Axes>"
            ],
            "image/png": "[encoded data removed]"
          },
          "metadata": {}
        }
      ]
    },
    {
      "cell_type": "markdown",
      "source": [
        "## More Maps"
      ],
      "metadata": {
        "id": "MyVKwm19Pc8F"
      }
    },
    {
      "cell_type": "code",
      "source": [],
      "metadata": {
        "id": "pNOpGIj_Pfa0"
      },
      "execution_count": null,
      "outputs": []
    },
    {
      "cell_type": "markdown",
      "source": [
        "# **ANALYSIS**"
      ],
      "metadata": {
        "id": "wIFeh7xMFPrJ"
      }
    },
    {
      "cell_type": "markdown",
      "source": [
        "* this should be after the maps and just include some talking points about what we can really make of this data\n",
        "\n",
        "* Can include things such as code snippets clusters of maps to drive these points through"
      ],
      "metadata": {
        "id": "LdjhBBs6HAZK"
      }
    },
    {
      "cell_type": "code",
      "source": [],
      "metadata": {
        "id": "Dlf3uU9SFUOv"
      },
      "execution_count": null,
      "outputs": []
    },
    {
      "cell_type": "markdown",
      "source": [
        "# **ERRORS**"
      ],
      "metadata": {
        "id": "EwPlpLdjFiuT"
      }
    },
    {
      "cell_type": "markdown",
      "source": [
        "## DEBUG (WORKS)"
      ],
      "metadata": {
        "id": "gYg2sZuPXKKi"
      }
    },
    {
      "cell_type": "markdown",
      "source": [
        "### this was how I check for missing geometries on my files, this was necessary for me to add the county names in my map portion with this code snippet:\n",
        "    \n",
        "    # Add county names on the map\n",
        "    njC2.apply(lambda x: ax.text(x.geometry.centroid.x, x.geometry.centroid.y,x['COUNTY'], fontsize=8, ha='center'), axis=1)\n"
      ],
      "metadata": {
        "id": "wz_tqZcKXvDU"
      }
    },
    {
      "cell_type": "code",
      "source": [
        "print(njC2[njC2.geometry.isnull()])\n"
      ],
      "metadata": {
        "colab": {
          "base_uri": "https://localhost:8080/"
        },
        "outputId": "4cfd3bd1-2991-48fe-dff1-8875419a17d6",
        "id": "UokeQPpgXKKi"
      },
      "execution_count": null,
      "outputs": [
        {
          "output_type": "stream",
          "name": "stdout",
          "text": [
            "Empty GeoDataFrame\n",
            "Columns: [COUNTY, COUNTY_LAB, CO, GNIS_NAME, GNIS, FIPSSTCO, FIPSCO, ACRES, SQ_MILES, POP2010, POP2000, POP1990, POP1980, POPDEN2010, POPDEN2000, POPDEN1990, POPDEN1980, REGION, Shape_Leng, Shape_Area, geometry, HEALTHY FOOD, Exercise Opportunities, Obese Persons, Physically Inactive Persons, Children Eligible for Free Lunch, _merge]\n",
            "Index: []\n",
            "\n",
            "[0 rows x 27 columns]\n"
          ]
        }
      ]
    },
    {
      "cell_type": "code",
      "source": [
        "njC2 = njC2[~njC2.geometry.isnull()]"
      ],
      "metadata": {
        "id": "OzIFMwZgXKKi"
      },
      "execution_count": null,
      "outputs": []
    },
    {
      "cell_type": "code",
      "source": [
        "njC2 = njC2.to_crs(epsg=3857)  # Using Web Mercator (EPSG:3857) as an example\n"
      ],
      "metadata": {
        "id": "EHm1PCj9XKKi"
      },
      "execution_count": null,
      "outputs": []
    },
    {
      "cell_type": "markdown",
      "source": [
        "Sometimes merging, atleast for this dataset, I still had to strip again columns. May have to do that everytime you are working with a 'new' dataframe, even if it is building upon an 'old' df."
      ],
      "metadata": {
        "id": "xvcpfffxMEaU"
      }
    },
    {
      "cell_type": "markdown",
      "source": [],
      "metadata": {
        "id": "hszGg44pHSro"
      }
    },
    {
      "cell_type": "markdown",
      "source": [
        "# **FUTURE ENHANCEMENTS**"
      ],
      "metadata": {
        "id": "nX2Nn0tSFVat"
      }
    },
    {
      "cell_type": "markdown",
      "source": [
        "* color this to make it similiar to my plant wiki idea, see if colab can even do this\n",
        "* make the maps pretty\n",
        "* interactive maps? sliding scale to see year by year data and the changes that go in, see if there is any insights to be made"
      ],
      "metadata": {
        "id": "tECAA2eUGsRR"
      }
    },
    {
      "cell_type": "markdown",
      "source": [
        "# **RESOURCES**"
      ],
      "metadata": {
        "id": "gEvEf4mNFIQy"
      }
    },
    {
      "cell_type": "markdown",
      "source": [
        "URLS for datasets:\n",
        "*\n",
        "*\n",
        "*\n",
        "\n",
        "Color themes(CASE_sensitive):\n",
        "* cmap = ['magma', 'inferno', 'plasma', 'viridis', 'cividis', 'twilight', 'twilight_shifted', 'turbo', 'Blues', 'BrBG', 'BuGn', 'BuPu', 'CMRmap', 'GnBu', 'Greens', 'Greys', 'OrRd', 'Oranges', 'PRGn', 'PiYG', 'PuBu', 'PuBuGn', 'PuOr', 'PuRd', 'Purples', 'RdBu', 'RdGy', 'RdPu', 'RdYlBu', 'RdYlGn', 'Reds', 'Spectral', 'Wistia', 'YlGn', 'YlGnBu', 'YlOrBr', 'YlOrRd', 'afmhot', 'autumn', 'binary', 'bone', 'brg', 'bwr', 'cool', 'coolwarm', 'copper', 'cubehelix', 'flag', 'gist_earth', 'gist_gray', 'gist_heat', 'gist_ncar', 'gist_rainbow', 'gist_stern', 'gist_yarg', 'gnuplot', 'gnuplot2', 'gray', 'hot', 'hsv', 'jet', 'nipy_spectral', 'ocean', 'pink', 'prism', 'rainbow', 'seismic', 'spring', 'summer', 'terrain', 'winter', 'Accent', 'Dark2', 'Paired', 'Pastel1', 'Pastel2', 'Set1', 'Set2', 'Set3', 'tab10', 'tab20', 'tab20b', 'tab20c', 'magma_r', 'inferno_r', 'plasma_r', 'viridis_r', 'cividis_r', 'twilight_r', 'twilight_shifted_r', 'turbo_r', 'Blues_r', 'BrBG_r', 'BuGn_r', 'BuPu_r', 'CMRmap_r', 'GnBu_r', 'Greens_r', 'Greys_r', 'OrRd_r', 'Oranges_r', 'PRGn_r', 'PiYG_r', 'PuBu_r', 'PuBuGn_r', 'PuOr_r', 'PuRd_r', 'Purples_r', 'RdBu_r', 'RdGy_r', 'RdPu_r', 'RdYlBu_r', 'RdYlGn_r', 'Reds_r', 'Spectral_r', 'Wistia_r', 'YlGn_r', 'YlGnBu_r', 'YlOrBr_r', 'YlOrRd_r', 'afmhot_r', 'autumn_r', 'binary_r', 'bone_r', 'brg_r', 'bwr_r', 'cool_r', 'coolwarm_r', 'copper_r', 'cubehelix_r', 'flag_r', 'gist_earth_r', 'gist_gray_r', 'gist_heat_r', 'gist_ncar_r', 'gist_rainbow_r', 'gist_stern_r', 'gist_yarg_r', 'gnuplot_r', 'gnuplot2_r', 'gray_r', 'hot_r', 'hsv_r', 'jet_r', 'nipy_spectral_r', 'ocean_r', 'pink_r', 'prism_r', 'rainbow_r', 'seismic_r', 'spring_r', 'summer_r', 'terrain_r', 'winter_r', 'Accent_r', 'Dark2_r', 'Paired_r', 'Pastel1_r', 'Pastel2_r', 'Set1_r', 'Set2_r', 'Set3_r', 'tab10_r', 'tab20_r', 'tab20b_r', 'tab20c_r']\n",
        "\n",
        "* My favorites (non color names seem to be better if using categorical data, colors are great for sliding scale data numbericals)(ones like ocean are great, 0 value is green and all others are blue, really helps drive how some disparirty there is in data): ['viridis','cividis','twilight','Blues','BuGn', 'Greys','binary','Wistia','autumn','bone','cool','copper','flag','gist_earth','gist_gray','gist_ncar','hsv','ocean','prism','rainbow','seismic','winter','Pastel1','Pastel2','']\n",
        "* can i use additional libraries for color libraries?"
      ],
      "metadata": {
        "id": "4JhcGFLKPjcl"
      }
    },
    {
      "cell_type": "code",
      "source": [
        "print(plt.colormaps())\n"
      ],
      "metadata": {
        "colab": {
          "base_uri": "https://localhost:8080/"
        },
        "id": "trus1MSRP68P",
        "outputId": "29190a6f-7fa5-4b2c-becc-fb78822a3c0f"
      },
      "execution_count": 15,
      "outputs": [
        {
          "output_type": "stream",
          "name": "stdout",
          "text": [
            "['magma', 'inferno', 'plasma', 'viridis', 'cividis', 'twilight', 'twilight_shifted', 'turbo', 'Blues', 'BrBG', 'BuGn', 'BuPu', 'CMRmap', 'GnBu', 'Greens', 'Greys', 'OrRd', 'Oranges', 'PRGn', 'PiYG', 'PuBu', 'PuBuGn', 'PuOr', 'PuRd', 'Purples', 'RdBu', 'RdGy', 'RdPu', 'RdYlBu', 'RdYlGn', 'Reds', 'Spectral', 'Wistia', 'YlGn', 'YlGnBu', 'YlOrBr', 'YlOrRd', 'afmhot', 'autumn', 'binary', 'bone', 'brg', 'bwr', 'cool', 'coolwarm', 'copper', 'cubehelix', 'flag', 'gist_earth', 'gist_gray', 'gist_heat', 'gist_ncar', 'gist_rainbow', 'gist_stern', 'gist_yarg', 'gnuplot', 'gnuplot2', 'gray', 'hot', 'hsv', 'jet', 'nipy_spectral', 'ocean', 'pink', 'prism', 'rainbow', 'seismic', 'spring', 'summer', 'terrain', 'winter', 'Accent', 'Dark2', 'Paired', 'Pastel1', 'Pastel2', 'Set1', 'Set2', 'Set3', 'tab10', 'tab20', 'tab20b', 'tab20c', 'magma_r', 'inferno_r', 'plasma_r', 'viridis_r', 'cividis_r', 'twilight_r', 'twilight_shifted_r', 'turbo_r', 'Blues_r', 'BrBG_r', 'BuGn_r', 'BuPu_r', 'CMRmap_r', 'GnBu_r', 'Greens_r', 'Greys_r', 'OrRd_r', 'Oranges_r', 'PRGn_r', 'PiYG_r', 'PuBu_r', 'PuBuGn_r', 'PuOr_r', 'PuRd_r', 'Purples_r', 'RdBu_r', 'RdGy_r', 'RdPu_r', 'RdYlBu_r', 'RdYlGn_r', 'Reds_r', 'Spectral_r', 'Wistia_r', 'YlGn_r', 'YlGnBu_r', 'YlOrBr_r', 'YlOrRd_r', 'afmhot_r', 'autumn_r', 'binary_r', 'bone_r', 'brg_r', 'bwr_r', 'cool_r', 'coolwarm_r', 'copper_r', 'cubehelix_r', 'flag_r', 'gist_earth_r', 'gist_gray_r', 'gist_heat_r', 'gist_ncar_r', 'gist_rainbow_r', 'gist_stern_r', 'gist_yarg_r', 'gnuplot_r', 'gnuplot2_r', 'gray_r', 'hot_r', 'hsv_r', 'jet_r', 'nipy_spectral_r', 'ocean_r', 'pink_r', 'prism_r', 'rainbow_r', 'seismic_r', 'spring_r', 'summer_r', 'terrain_r', 'winter_r', 'Accent_r', 'Dark2_r', 'Paired_r', 'Pastel1_r', 'Pastel2_r', 'Set1_r', 'Set2_r', 'Set3_r', 'tab10_r', 'tab20_r', 'tab20b_r', 'tab20c_r']\n"
          ]
        }
      ]
    }
  ]
}